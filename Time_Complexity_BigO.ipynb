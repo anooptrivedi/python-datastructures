{
 "cells": [
  {
   "cell_type": "code",
   "execution_count": null,
   "metadata": {},
   "outputs": [],
   "source": [
    "# Understanding time complexity of various loop functions - represented as Big O\n",
    "\n",
    "\n",
    "# Complexity: O(sqrt(n))\n",
    "def function1(n):\n",
    "    i = 1\n",
    "    count = 0\n",
    "    while (i*i < n): #loop will end if i^2 <= n = O(sqrt(n))\n",
    "        count += 1\n",
    "        i += 1\n",
    "    print(count)\n",
    "\n",
    "function1(10)"
   ]
  },
  {
   "cell_type": "code",
   "execution_count": null,
   "metadata": {},
   "outputs": [],
   "source": [
    "\n",
    "# Complexity: O(n^2logn)\n",
    "def function2(n):\n",
    "    i = 1\n",
    "    count = 0\n",
    "    for i in range(n//2,n): # outer loop executing n/2 times\n",
    "        j = 1\n",
    "        while ((j + n//2) <= n): #middle loop executing n/2 times\n",
    "            k = 1\n",
    "            while k <= n: # inner loop executing logn times\n",
    "                count += 1\n",
    "                k = k*2\n",
    "            j += 1    \n",
    "    print(count)\n",
    "\n",
    "function2(20)"
   ]
  },
  {
   "cell_type": "code",
   "execution_count": null,
   "metadata": {},
   "outputs": [],
   "source": [
    "# Complexity: O(nlog^2n)\n",
    "def function3(n):\n",
    "    count = 0\n",
    "    for i in range(n//2,n): # outer loop executing n/2 times\n",
    "        j = 1\n",
    "        while ((j + n//2) <= n): #middle loop executing logn times\n",
    "            k = 1\n",
    "            while k <= n: # inner loop executing logn times\n",
    "                count += 1\n",
    "                k = k*2\n",
    "            j = j*2    \n",
    "    print(count)\n",
    "\n",
    "function3(20)"
   ]
  },
  {
   "cell_type": "code",
   "execution_count": null,
   "metadata": {},
   "outputs": [],
   "source": [
    "# Complexity: O(n)\n",
    "def function4(n):\n",
    "    count = 0\n",
    "    for i in range(n//2,n): # outer loop executing n/2 times\n",
    "        j = 1\n",
    "        while ((j + n//2) <= n): #middle loop has break statement\n",
    "            count += 1\n",
    "            break # executing only ONCE for each i in range\n",
    "            j = j * 2\n",
    "    print(count)\n",
    "\n",
    "function4(20)"
   ]
  },
  {
   "cell_type": "code",
   "execution_count": null,
   "metadata": {},
   "outputs": [],
   "source": [
    "# Complexity: F(n-3) + cn^2 = O(n^3)\n",
    "# recursive function\n",
    "def function5(n):\n",
    "    count = 0\n",
    "    if (n <= 0):\n",
    "        return\n",
    "    for i in range(1,n): #outer loop executing n times\n",
    "        for j in range(1,n): #outer loop executing n times\n",
    "            count += 1\n",
    "    function5(n-3) # recursive call\n",
    "    print(count)\n",
    "\n",
    "function5(20)"
   ]
  },
  {
   "cell_type": "code",
   "execution_count": null,
   "metadata": {},
   "outputs": [],
   "source": [
    "# fibonnaci series using recursion\n",
    "# Complexity: F(n-1) F(n-2) + c = O(2^n)\n",
    "# two trees, n-1 & n-2, each running to the power of input\n",
    "\n",
    "def fib(n):\n",
    "    if(n == 0): return 0\n",
    "    elif(n == 1): return 1\n",
    "    else: return(fib(n-1)+fib(n-2))\n",
    "\n",
    "print(fib(3))"
   ]
  },
  {
   "cell_type": "code",
   "execution_count": null,
   "metadata": {},
   "outputs": [],
   "source": [
    "# finding factorial\n",
    "# conplexity : O(nlogn)\n",
    "\n",
    "def fact(n):\n",
    "    if(n == 0 or n == 1): return 1\n",
    "    else: return(n * fact(n-1)) #recursion, nlogn\n",
    "    \n",
    "print(fact(5))"
   ]
  },
  {
   "cell_type": "code",
   "execution_count": null,
   "metadata": {},
   "outputs": [],
   "source": [
    "# finding prime\n",
    "# complexity : O(sqrt(n))\n",
    "# many ways of doing this, but if we can take care for base case till 9, efficient algorithm\n",
    "\n",
    "import math\n",
    "\n",
    "def isPrime(n):\n",
    "    if(n == 4 or n == 6 or n == 8 or n == 9): # taking care of some base cases till 9\n",
    "        return 0\n",
    "    else:\n",
    "        for i in range(2,int(math.sqrt(n))): #range from 2 to square root of input\n",
    "            if(n%i == 0):\n",
    "                return 0\n",
    "        return 1\n",
    "\n",
    "while True:\n",
    "    \n",
    "    try:\n",
    "        value = int(input(\"Enter an integer value: \"))\n",
    "        if(value <= 1):\n",
    "            print(\"Bye\")\n",
    "            break\n",
    "        elif(value == 2):\n",
    "            print(value,\"is a Prime Number\")            \n",
    "        elif(isPrime(value)):\n",
    "            print(value,\"is a Prime Number\")\n",
    "        else:\n",
    "            print(value,\"is not a Prime Number\")\n",
    "    except ValueError:\n",
    "        print(\"Expecting only integers\")\n"
   ]
  },
  {
   "cell_type": "code",
   "execution_count": null,
   "metadata": {},
   "outputs": [],
   "source": [
    "# find greatest common divisor\n",
    "# using recursion\n",
    "# complexity : for m=2 and all n=2^i => O(1)\n",
    "\n",
    "def gcd(n,m):\n",
    "    if n%m == 0:\n",
    "        return m\n",
    "    n = n%m\n",
    "    return gcd(m,n)\n",
    "\n",
    "print(gcd(10,5))"
   ]
  },
  {
   "cell_type": "code",
   "execution_count": null,
   "metadata": {
    "collapsed": true
   },
   "outputs": [],
   "source": []
  }
 ],
 "metadata": {
  "kernelspec": {
   "display_name": "Python 3",
   "language": "python",
   "name": "python3"
  },
  "language_info": {
   "codemirror_mode": {
    "name": "ipython",
    "version": 3
   },
   "file_extension": ".py",
   "mimetype": "text/x-python",
   "name": "python",
   "nbconvert_exporter": "python",
   "pygments_lexer": "ipython3",
   "version": "3.6.1"
  }
 },
 "nbformat": 4,
 "nbformat_minor": 2
}
