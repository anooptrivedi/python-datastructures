{
 "cells": [
  {
   "cell_type": "code",
   "execution_count": null,
   "metadata": {
    "collapsed": true
   },
   "outputs": [],
   "source": [
    "# Asymptotic Analysis, determine the running time of an algorithm\n",
    "\n",
    "# Loops: Running time of loop is at the most the running time of a statement inside the loop multiplied by the number of iterations\n",
    "\n",
    "# execute n times - constant time\n",
    "# Total time in below example = a constant c X n = cn = O(n) i.e. rate of growth in best case\n",
    "\n",
    "n = 100\n",
    "for i in range(1, n):\n",
    "    print(\"Number\", i) # constant time\n"
   ]
  },
  {
   "cell_type": "code",
   "execution_count": null,
   "metadata": {},
   "outputs": [],
   "source": [
    "# Nested loops: Total running time is the product of the sizes of all the loops\n",
    "\n",
    "# Total time = c X n X n = cn^2 = O(n^2)\n",
    "\n",
    "n = 10\n",
    "count = 0\n",
    "for i in range(1, n): # outer loop executed in n-1 times\n",
    "    for j in range(1, n): # outer loop executed in n-1 times\n",
    "        print(\"i value,\", i, \"j value,\", (i,j)) # constant time\n",
    "        count += 1\n",
    "        \n",
    "print(\"counter, 9 x 9 = \", count)"
   ]
  },
  {
   "cell_type": "code",
   "execution_count": null,
   "metadata": {},
   "outputs": [],
   "source": [
    "# Consecutive statements: Add the time complexities of each statement\n",
    "\n",
    "# Total time = c0 + c1n + c2n^2 = O(n^2)\n",
    "# c0, c1 and c2 are constants\n",
    "\n",
    "n = 10\n",
    "for i in range(1,n):\n",
    "    print(\"Number\", i) #constant time\n",
    "for i in range(1,n):\n",
    "    for j in range(1,n):\n",
    "        print(\"i value\", i, \"and j value\", j) #constant time"
   ]
  },
  {
   "cell_type": "code",
   "execution_count": null,
   "metadata": {},
   "outputs": [],
   "source": [
    "# If-then-else statements: Worst case running time\n",
    "\n",
    "# Total time = c0 + c1 * n = O(n)\n",
    "\n",
    "n = 10\n",
    "if (n==1): # constant time\n",
    "    print(\"Wrong value\",n)\n",
    "else:\n",
    "    for i in range(1,n): # n times\n",
    "        print(\"Number\", i) # constant time"
   ]
  },
  {
   "cell_type": "code",
   "execution_count": null,
   "metadata": {},
   "outputs": [],
   "source": [
    "# Logarithmic complexity: algorithm is O(logn) if it takes constant time to cut the problem size by a fraction, usually half.\n",
    "\n",
    "# Taking logarithm on both sides gives\n",
    "# log(2^k) = logn\n",
    "# klog2 = logn\n",
    "# k = logn (assuming base 2)\n",
    "\n",
    "def logarithm(n):\n",
    "    i = 1\n",
    "    while i <= n:\n",
    "        i = i * 2\n",
    "        print(i)\n",
    "        \n",
    "logarithm(100)\n",
    "\n",
    "# similarly, worst case rate of growth is O(logn), holds true for decreasing sequence\n",
    "def logarithm2(n):\n",
    "    i = n\n",
    "    while i >= 1:\n",
    "        i = i // 2\n",
    "        print(i)\n",
    "        \n",
    "logarithm2(100)"
   ]
  },
  {
   "cell_type": "code",
   "execution_count": null,
   "metadata": {
    "collapsed": true
   },
   "outputs": [],
   "source": []
  }
 ],
 "metadata": {
  "kernelspec": {
   "display_name": "Python 3",
   "language": "python",
   "name": "python3"
  },
  "language_info": {
   "codemirror_mode": {
    "name": "ipython",
    "version": 3
   },
   "file_extension": ".py",
   "mimetype": "text/x-python",
   "name": "python",
   "nbconvert_exporter": "python",
   "pygments_lexer": "ipython3",
   "version": "3.6.1"
  }
 },
 "nbformat": 4,
 "nbformat_minor": 2
}
