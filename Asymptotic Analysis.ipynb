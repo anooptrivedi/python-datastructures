{
 "cells": [
  {
   "cell_type": "code",
   "execution_count": null,
   "metadata": {},
   "outputs": [],
   "source": [
    "# Asymptotic Analysis, determine the running time of an algorithm\n",
    "\n",
    "# Loops: Running time of loop is at the most the running time of a statement inside the loop multiplied\n",
    "# by the number of iterations\n",
    "\n",
    "# execute n times\n",
    "# total time in below example = a constant c X n = cn = O(n) i.e. rate of growth in best case\n",
    "\n",
    "n = 10\n",
    "for i in range(1, n):\n",
    "    print(\"Number\", i) # constant time\n"
   ]
  },
  {
   "cell_type": "code",
   "execution_count": null,
   "metadata": {
    "collapsed": true
   },
   "outputs": [],
   "source": []
  }
 ],
 "metadata": {
  "kernelspec": {
   "display_name": "Python 3",
   "language": "python",
   "name": "python3"
  },
  "language_info": {
   "codemirror_mode": {
    "name": "ipython",
    "version": 3
   },
   "file_extension": ".py",
   "mimetype": "text/x-python",
   "name": "python",
   "nbconvert_exporter": "python",
   "pygments_lexer": "ipython3",
   "version": "3.6.1"
  }
 },
 "nbformat": 4,
 "nbformat_minor": 2
}
